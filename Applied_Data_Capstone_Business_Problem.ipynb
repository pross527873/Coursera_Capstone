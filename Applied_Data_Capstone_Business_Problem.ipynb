{
    "cells": [
        {
            "cell_type": "markdown",
            "metadata": {
                "collapsed": true
            },
            "source": "# Opening a Coffee Shop in New York City"
        },
        {
            "cell_type": "markdown",
            "metadata": {},
            "source": "## Introduction/Business Problem"
        },
        {
            "cell_type": "markdown",
            "metadata": {},
            "source": "Starting a new business is a huge risk for any person. In fact, according to the U. S. Bureau of Labor Statistics, 20% fail within the first two years, and 45% during the first 5. As such, any new business owner should use all the knowledge and data available to them to give their business the best shot at thriving. To do otherwise is just wasting vast amounts of easily available data.\n\n\nIn this project, we will be looking at a new business owner that is looking to open up a new coffee shop in New York City. Given the size of New York City, our business owner is looking to find a neighborhood in which their coffee shop can thrive. That means that they need to locate a neighborhood where coffee shops are something the residents want, and that the neighborhood is not already over-saturated with coffee shops. We can use existing data to determine the layout of coffee shops in New York City and see where this new one might fit.\n\n\nAlso, many coffee shops sell other goods in addition to coffee (pastries, sandwhiches, books). Our new business owner wants to analyze what non-coffee businesses exist in the neighborhoods and determine what additional goods they should look into selling. In fact, they might be able to partner with other businesses in the neighborhoods and sell their goods as well. Coffee shops also tend to act as a hub for information about local events, so knowledge of the neighborhood would also help integrate the shop in the community.\n\n\nFinally, any new business owner wants to make sure their investment will be safe and protected. As such, our owner would like to look into crime rates of the various neighborhoods to help make an informed decision when ultimately determining which neighborhood is the best fit."
        },
        {
            "cell_type": "code",
            "execution_count": null,
            "metadata": {},
            "outputs": [],
            "source": ""
        }
    ],
    "metadata": {
        "kernelspec": {
            "display_name": "Python 3.7",
            "language": "python",
            "name": "python3"
        },
        "language_info": {
            "codemirror_mode": {
                "name": "ipython",
                "version": 3
            },
            "file_extension": ".py",
            "mimetype": "text/x-python",
            "name": "python",
            "nbconvert_exporter": "python",
            "pygments_lexer": "ipython3",
            "version": "3.7.9"
        }
    },
    "nbformat": 4,
    "nbformat_minor": 1
}