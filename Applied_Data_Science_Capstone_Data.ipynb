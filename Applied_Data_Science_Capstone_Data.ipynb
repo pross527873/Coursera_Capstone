{
    "cells": [
        {
            "cell_type": "markdown",
            "metadata": {
                "collapsed": true
            },
            "source": "# Opening a Coffee Shop in New York City"
        },
        {
            "cell_type": "markdown",
            "metadata": {},
            "source": "## Data"
        },
        {
            "cell_type": "markdown",
            "metadata": {},
            "source": "### Location Data\n\nIn this capstone project, we will be using Foursquare location data in conjunction with outside data sources in order to achieve our goal.\n\nThe first bit of data that we will need is a list of all the neighborhoods in New York City. To get this information, we are able to use either the new_york.json file that was part of week 3 in this capstone course. Alternatively, we are able to use:\n\nhttps://www.health.ny.gov/statistics/cancer/registry/appendix/neighborhoods.htm\n\nEither way, this will give us the Neighborhood, Borough, and Postal Codes that we need.\n\nWe are also going to need the Latitude and Longitude values for the various neighborhoods. This information comes with the new_york.json file. We are also able to obtain this information using the Geocode API with the postal codes we got from above.\n"
        },
        {
            "cell_type": "markdown",
            "metadata": {},
            "source": "### Neighborhood Data\n\nWith this data, we can begin using the Foursquare APIs. We are going to use the previously achieved location data to get additional data for each neighborhood. First, we want to search for coffee shops in the various neighborhoods. We can do so using the 'search' endpoint. This will give us data on existing coffee shops in various neighborhoods, and help us determine which neighborhoods can support coffee shops while not being over crowded.\n\nWe can also use the 'explore' endpoint to determine the top 5 types of venues in each neighborhood. This will give us information on what each neighborhood is like, what is popular with it. It will help us determine what additional items the coffee shop should stock if it picks a specific neighborhood. 'details' and 'tips' will also give us data about existing businesses and how a coffee shop would integrate itself.\n\nThe 'events' endpoint will give us data about various events taking place in the neighborhood. As mentioned in the Business Problem section, coffee shops often act as a central hub for neighborhoods. Therefore, this information is vital for determining what events the coffee shop would advertise and what the current residents would like to find information about.\n\nOverall, we are looking to find neighborhoods that are most similar to our needs outlined above."
        },
        {
            "cell_type": "markdown",
            "metadata": {},
            "source": "### Crime Data\n\nFinally, our business owner wants to make sure they are opening their business in a secure and safe location. Historical crime data can be found here:\n\nhttps://www1.nyc.gov/site/nypd/stats/crime-statistics/historical.page\n\nWe will match the precincts with the various neighborhoods in order to get an overall view of the safety of the locations. We will want to match for neighborhoods that share a similar high safety level."
        },
        {
            "cell_type": "code",
            "execution_count": null,
            "metadata": {},
            "outputs": [],
            "source": ""
        }
    ],
    "metadata": {
        "kernelspec": {
            "display_name": "Python 3.7",
            "language": "python",
            "name": "python3"
        },
        "language_info": {
            "codemirror_mode": {
                "name": "ipython",
                "version": 3
            },
            "file_extension": ".py",
            "mimetype": "text/x-python",
            "name": "python",
            "nbconvert_exporter": "python",
            "pygments_lexer": "ipython3",
            "version": "3.7.9"
        }
    },
    "nbformat": 4,
    "nbformat_minor": 1
}